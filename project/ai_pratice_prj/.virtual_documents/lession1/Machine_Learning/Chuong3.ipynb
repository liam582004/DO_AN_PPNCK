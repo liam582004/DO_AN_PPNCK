








data = 'hello world'
print(data[0])
print(len(data))
print(data)





value = 123.1
print(value)
value = 10
print(value)





a = True
b = False
print(a, b)





a, b, c, = 1, 2, 3
print(a, b, c)


value = 99
if value == 99:
    print('That is fast')
elif value > 200:
    print('That is too fast')
else:
    print('That is safe')





for i in range(10):
    print (i)





i = 0 
while i < 10:
    print (i)
    i += 1








a = (1, 2, 3)
print(a)





mylist = [1, 2, 3]
print("Zeroth value: %d" % mylist[0])
mylist.append(4)
print("List length: %d" % len(mylist))
for value in mylist:
    print (value)





mydict = {'a': 1, 'b': 2, 'c': 3}
print('A value: %d' % mydict['a'])
mydict['a'] = 11
print('A value: %d' % mydict['a'])
print('Keys: %s' % mydict.keys())
print('Values: %s' % mydict.values())
for key in mydict.keys():
    print (mydict[key])
    





def mysum(x, y):
    return x+y

result = mysum(1, 3)
print(result)








import numpy
mylist = [1,2, 3]
myarr= numpy.array(mylist)
print(myarr)
print(myarr.shape)





import numpy
mylist = [[1, 2,3 ], [3, 4, 5]]
myarr = numpy.array(mylist)
print(myarr)
print(myarr.shape)
print('first row: %s' % myarr[0])
print('last row: %s' % myarr[-1])
print('special row and col: %s' % myarr[0,2])
print('whole col: %s' % myarr[:,2])





import numpy
myarr1 = numpy.array([2,2,2])
myarr2 = numpy.array([3, 3, 3])
print("addition: %s" % (myarr1 + myarr2))
print('Multiplication: %s' % (myarr1*myarr2))








import matplotlib.pyplot as plt
import numpy
myarr = numpy.array([1,2,3])
plt.plot(myarr)
plt.xlabel('some x axis')
plt.ylabel('some y axis')
plt.show()





import matplotlib.pyplot as plt
import numpy
x = numpy.array([1,2,3])
y = numpy.array([4, 5, 6])
plt.scatter(x, y)
plt.xlabel('some x axis')
plt.ylabel('some y axis')
plt.show()








import numpy
import pandas
myarr = numpy.array([1, 2, 3])
rownames = ['a', 'b', 'c']
myseries = pandas.Series(myarr, index=rownames)
print(myseries)
print(myseries[0])
print(myseries['a'])





import numpy
import pandas
myarr = numpy.array([[1, 2, 3], [4, 5, 6]])
rowsnames = ['a', 'b']
colnames = ['one', 'two', 'three']
mydataframe = pandas.DataFrame(myarr, index=rowsnames, columns=colnames)
print(mydataframe)
print("Method 1:")
print("one col:\n", mydataframe['one'])

print("Method 2:")
print("one col:\n", mydataframe.one)









import pandas as pd

filename = 'pima-indians-diabetes.data.csv'
df = pd.read_csv(filename, header=None)

print(df.shape)  # In ra (dòng, cột)
print(df.head()) # Xem 5 dòng đầu






from numpy import loadtxt
filename = 'pima-indians-diabetes.data.csv'
raw_data = open(filename, 'rb')
data = loadtxt(raw_data, delimiter=",")
print(data.shape)





https://docs.python.org/2/library/csv.html
http://docs.scipy.org/doc/numpy-1.10.0/reference/generated/numpy.ndarray.html
http://docs.scipy.org/doc/numpy-1.10.0/reference/generated/numpy.loadtxt.html
http://pandas.pydata.org/pandas-docs/stable/generated/pandas.DataFrame.html

from numpy import loadtxt
from urllib import urlopen
url = 'https://goo.gl/vhm1eU'
raw_data = urlopen(url)
dataset = loadtxt(raw_data, delimiter=",")
print(dataset.shape)
























































from matplotlib import pyplot
from pandas import read_csv
filename = 'pima-indians-diabetes.data.csv'
names = ['preg', 'plas', 'pres', 'skin', 'test', 'mass', 'pedi', 'age', 'class']
data = read_csv(filename, names=names)
data.hist()
pyplot.show()

















































































