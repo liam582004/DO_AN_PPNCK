{
 "cells": [
  {
   "cell_type": "code",
   "execution_count": null,
   "metadata": {},
   "outputs": [],
   "source": [
    "# chương 7: chuẩn bị dữ liệu cho machine learning\n",
    "\n",
    "# cell 1: imports\n",
    "import pandas as pd\n",
    "import numpy as np\n",
    "from sklearn.preprocessing import MinMaxScaler, StandardScaler, Normalizer, Binarizer\n"
   ]
  },
  {
   "cell_type": "code",
   "execution_count": null,
   "metadata": {},
   "outputs": [],
   "source": [
    "# cell 2: load data và tách features (ví dụ)\n",
    "filename = 'pima-indians-diabetes.data.csv' # đảm bảo file này tồn tại\n",
    "names = ['preg', 'plas', 'pres', 'skin', 'test', 'mass', 'pedi', 'age', 'class']\n",
    "dataframe = pd.read_csv(filename, names=names)\n",
    "array = dataframe.values\n",
    "# tách features (ví dụ 8 cột đầu)\n",
    "x = array[:,0:8] \n",
    "# target y không cần dùng trực tiếp trong chương này\n",
    "\n",
    "print(\"--- chương 7: chuẩn bị dữ liệu (thực hiện trên features 'x') ---\")"
   ]
  },
  {
   "cell_type": "code",
   "execution_count": null,
   "metadata": {},
   "outputs": [],
   "source": [
    "# cell 3: rescale data (0 đến 1)\n",
    "print(\"rescale data:\")\n",
    "scaler = MinMaxScaler(feature_range=(0, 1))\n",
    "rescaled_x = scaler.fit_transform(x)\n",
    "# np.set_printoptions(precision=3) # đặt độ chính xác hiển thị nếu muốn\n",
    "print(\"5 dòng đầu sau rescale:\\n\", rescaled_x[0:5,:])"
   ]
  },
  {
   "cell_type": "code",
   "execution_count": null,
   "metadata": {},
   "outputs": [],
   "source": [
    "# cell 4: standardize data (mean=0, std=1)\n",
    "print(\"\\nstandardize data:\")\n",
    "scaler = StandardScaler()\n",
    "standardized_x = scaler.fit_transform(x)\n",
    "print(\"5 dòng đầu sau standardize:\\n\", standardized_x[0:5,:])"
   ]
  },
  {
   "cell_type": "code",
   "execution_count": null,
   "metadata": {},
   "outputs": [],
   "source": [
    "# cell 5: normalize data (vector length = 1)\n",
    "print(\"\\nnormalize data:\")\n",
    "# ví dụ dùng l2 norm (mặc định)\n",
    "normalizer = Normalizer()\n",
    "normalized_x = normalizer.fit_transform(x) \n",
    "print(\"5 dòng đầu sau normalize (l2):\\n\", normalized_x[0:5,:])"
   ]
  },
  {
   "cell_type": "code",
   "execution_count": null,
   "metadata": {},
   "outputs": [],
   "source": [
    "# cell 6: binarize data (thresholding)\n",
    "print(\"\\nbinarize data:\")\n",
    "binarizer = Binarizer(threshold=0.0) # ví dụ ngưỡng 0.0\n",
    "binary_x = binarizer.fit_transform(x)\n",
    "print(\"5 dòng đầu sau binarize (ngưỡng 0.0):\\n\", binary_x[0:5,:])\n",
    "\n",
    "print(\"\\n--- hết chương 7 ---\")"
   ]
  }
 ],
 "metadata": {
  "kernelspec": {
   "display_name": "Python 3",
   "language": "python",
   "name": "python3"
  },
  "language_info": {
   "name": "python",
   "version": "3.13.2"
  }
 },
 "nbformat": 4,
 "nbformat_minor": 2
}
