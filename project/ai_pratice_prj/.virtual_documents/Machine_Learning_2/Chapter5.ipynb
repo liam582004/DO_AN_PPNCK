{
 "cells": [
  {
   "cell_type": "code",
   "execution_count": null,
   "metadata": {},
   "outputs": [],
   "source": [
    "# chương 5: hiểu dữ liệu bằng thống kê mô tả\n",
    "\n",
    "#  1: imports\n",
    "import pandas as pd\n",
    "import numpy as np "
   ]
  },
  {
   "cell_type": "code",
   "execution_count": null,
   "metadata": {},
   "outputs": [],
   "source": [
    "#  2: load data (ví dụ)\n",
    "filename = 'pima-indians-diabetes.data.csv' # đảm bảo file này tồn tại\n",
    "names = ['preg', 'plas', 'pres', 'skin', 'test', 'mass', 'pedi', 'age', 'class']\n",
    "dataframe = pd.read_csv(filename, names=names)"
   ]
  },
  {
   "cell_type": "code",
   "execution_count": null,
   "metadata": {},
   "outputs": [],
   "source": [
    "#  3: xem lướt dữ liệu (head)\n",
    "print(\"peek at data (head):\")\n",
    "print(dataframe.head(20)) "
   ]
  },
  {
   "cell_type": "code",
   "execution_count": null,
   "metadata": {},
   "outputs": [],
   "source": [
    "#  4: kích thước dữ liệu (shape)\n",
    "print(\"\\ndimensions (shape):\")\n",
    "print(dataframe.shape)"
   ]
  },
  {
   "cell_type": "code",
   "execution_count": null,
   "metadata": {},
   "outputs": [],
   "source": [
    "#  5: kiểu dữ liệu (dtypes)\n",
    "print(\"\\ndata types (dtypes):\")\n",
    "print(dataframe.dtypes)"
   ]
  },
  {
   "cell_type": "code",
   "execution_count": null,
   "metadata": {},
   "outputs": [],
   "source": [
    "#  6: thống kê mô tả (describe)\n",
    "print(\"\\ndescriptive statistics (describe):\")\n",
    "pd.set_option('display.precision', 3) \n",
    "print(dataframe.describe())"
   ]
  },
  {
   "cell_type": "code",
   "execution_count": null,
   "metadata": {},
   "outputs": [],
   "source": [
    "#  7: phân phối lớp (class distribution)\n",
    "# giả sử cột target tên là 'class'\n",
    "if 'class' in dataframe.columns:\n",
    "    print(\"\\nclass distribution:\")\n",
    "    class_counts = dataframe.groupby('class').size()\n",
    "    print(class_counts)\n",
    "else:\n",
    "    print(\"\\ncột 'class' không tồn tại.\")"
   ]
  },
  {
   "cell_type": "code",
   "execution_count": null,
   "metadata": {},
   "outputs": [],
   "source": [
    "#  8: tương quan (correlations)\n",
    "print(\"\\ncorrelations:\")\n",
    "pd.set_option('display.precision', 3)\n",
    "correlations = dataframe.corr(method='pearson')\n",
    "print(correlations)\n"
   ]
  },
  {
   "cell_type": "code",
   "execution_count": null,
   "metadata": {},
   "outputs": [],
   "source": [
    "#  9: độ lệch (skew)\n",
    "print(\"\\nskew:\")\n",
    "print(dataframe.skew())\n",
    "\n",
    "print(\"\\n--- hết chương 5 ---\") "
   ]
  }
 ],
 "metadata": {
  "kernelspec": {
   "display_name": "Python 3",
   "language": "python",
   "name": "python3"
  },
  "language_info": {
   "name": "python",
   "version": "3.13.2"
  }
 },
 "nbformat": 4,
 "nbformat_minor": 2
}
