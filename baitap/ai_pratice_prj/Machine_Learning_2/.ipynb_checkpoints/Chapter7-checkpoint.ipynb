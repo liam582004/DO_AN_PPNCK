{
 "cells": [
  {
   "cell_type": "markdown",
   "metadata": {},
   "source": [
    "# Prepare Your Data For Machine Learning"
   ]
  },
  {
   "cell_type": "markdown",
   "metadata": {},
   "source": [
    "## 7.1 Need For Data Pre-processing"
   ]
  },
  {
   "cell_type": "markdown",
   "metadata": {},
   "source": [
    "Tiền xử lý dữ liệu là một bước gần như bắt buộc. Các thuật toán khác nhau có thể yêu cầu các phép biến đổi khác nhau. Đôi khi, thuật toán có thể hoạt động tốt hơn mà không cần tiền xử lý. Khuyến nghị nên tạo nhiều dạng xem và biến đổi dữ liệu, sau đó thử nghiệm các thuật toán trên từng dạng xem để xác định phép biến đổi nào phù hợp nhất."
   ]
  },
  {
   "cell_type": "markdown",
   "metadata": {},
   "source": [
    "## 7.2 Data Transforms"
   ]
  },
  {
   "cell_type": "markdown",
   "metadata": {},
   "source": [
    "Scikit-learn cung cấp hai phương pháp chuẩn để biến đổi dữ liệu:\n",
    "* **Fit and Multiple Transform:** Tính toán tham số biến đổi bằng `fit()` trên dữ liệu huấn luyện, sau đó áp dụng biến đổi bằng `transform()` lên dữ liệu huấn luyện, kiểm định và dữ liệu mới. Đây là cách tiếp cận được ưu tiên.\n",
    "* **Combined Fit-And-Transform:** Hàm `fit_transform()` tiện lợi cho các tác vụ một lần như vẽ đồ thị hoặc tóm tắt dữ liệu đã biến đổi.\n",
    "Các công thức sau sử dụng bộ dữ liệu Pima Indians."
   ]
  },
  {
   "cell_type": "markdown",
   "metadata": {},
   "source": [
    "## 7.3 Rescale Data"
   ]
  },
  {
   "cell_type": "markdown",
   "metadata": {},
   "source": [
    "Khi các thuộc tính có thang đo khác nhau, việc điều chỉnh lại tỷ lệ (thường về khoảng 0-1) có thể mang lại lợi ích cho nhiều thuật toán, đặc biệt là những thuật toán sử dụng gradient descent, gán trọng số hoặc thước đo khoảng cách (như KNN). Sử dụng lớp `MinMaxScaler`."
   ]
  },
  {
   "cell_type": "code",
   "execution_count": null,
   "metadata": {},
   "outputs": [],
   "source": [
    "# Thay đổi tỷ lệ dữ liệu (từ 0 đến 1) (Rescale data (between 0 and 1))\n",
    "from pandas import read_csv\n",
    "from numpy import set_printoptions\n",
    "from sklearn.preprocessing import MinMaxScaler\n",
    "\n",
    "filename = 'pima-indians-diabetes.data.csv'\n",
    "names = ['preg', 'plas', 'pres', 'skin', 'test', 'mass', 'pedi', 'age', 'class']\n",
    "dataframe = read_csv(filename, names=names)\n",
    "array = dataframe.values\n",
    "# Tách mảng thành các thành phần đầu vào và đầu ra\n",
    "X = array[:,0:8]\n",
    "Y = array[:,8]\n",
    "scaler = MinMaxScaler(feature_range=(0, 1))\n",
    "rescaledX = scaler.fit_transform(X)\n",
    "# Tóm tắt dữ liệu đã biến đổi\n",
    "set_printoptions(precision=3)\n",
    "print(rescaledX[0:5,:])"
   ]
  },
  {
   "cell_type": "markdown",
   "metadata": {},
   "source": [
    "## 7.4 Standardize Data"
   ]
  },
  {
   "cell_type": "markdown",
   "metadata": {},
   "source": [
    "Chuẩn hóa biến đổi các thuộc tính có phân phối Gaussian thành phân phối Gaussian chuẩn (trung bình 0, độ lệch chuẩn 1). Phù hợp cho các kỹ thuật giả định phân phối Gaussian như hồi quy tuyến tính, logistic và LDA. Sử dụng lớp `StandardScaler`."
   ]
  },
  {
   "cell_type": "code",
   "execution_count": null,
   "metadata": {},
   "outputs": [],
   "source": [
    "# Chuẩn hóa dữ liệu (trung bình 0, độ lệch chuẩn 1) (Standardize data (0 mean, 1 stdev))\n",
    "from sklearn.preprocessing import StandardScaler\n",
    "from pandas import read_csv\n",
    "from numpy import set_printoptions\n",
    "\n",
    "filename = 'pima-indians-diabetes.data.csv'\n",
    "names = ['preg', 'plas', 'pres', 'skin', 'test', 'mass', 'pedi', 'age', 'class']\n",
    "dataframe = read_csv(filename, names=names)\n",
    "array = dataframe.values\n",
    "# Tách mảng thành các thành phần đầu vào và đầu ra\n",
    "X = array[:,0:8]\n",
    "Y = array[:,8]\n",
    "scaler = StandardScaler().fit(X)\n",
    "rescaledX = scaler.transform(X)\n",
    "# Tóm tắt dữ liệu đã biến đổi\n",
    "set_printoptions(precision=3)\n",
    "print(rescaledX[0:5,:])"
   ]
  },
  {
   "cell_type": "markdown",
   "metadata": {},
   "source": [
    "## 7.5 Normalize Data"
   ]
  },
  {
   "cell_type": "markdown",
   "metadata": {},
   "source": [
    "Chuẩn hóa vector (normalizing) điều chỉnh lại tỷ lệ của mỗi quan sát (hàng) để có độ dài là 1 (unit norm). Hữu ích cho dữ liệu thưa và các thuật toán dựa trên trọng số hoặc khoảng cách như mạng nơ-ron và KNN. Sử dụng lớp `Normalizer`.\n"
   ]
  },
  {
   "cell_type": "code",
   "execution_count": null,
   "metadata": {},
   "outputs": [],
   "source": [
    "# Chuẩn hóa dữ liệu (độ dài là 1) (Normalize data (length of 1))\n",
    "from sklearn.preprocessing import Normalizer\n",
    "from pandas import read_csv\n",
    "from numpy import set_printoptions\n",
    "\n",
    "filename = 'pima-indians-diabetes.data.csv'\n",
    "names = ['preg', 'plas', 'pres', 'skin', 'test', 'mass', 'pedi', 'age', 'class']\n",
    "dataframe = read_csv(filename, names=names)\n",
    "array = dataframe.values\n",
    "# Tách mảng thành các thành phần đầu vào và đầu ra\n",
    "X = array[:,0:8]\n",
    "Y = array[:,8]\n",
    "scaler = Normalizer().fit(X)\n",
    "normalizedX = scaler.transform(X)\n",
    "# Tóm tắt dữ liệu đã biến đổi\n",
    "set_printoptions(precision=3)\n",
    "print(normalizedX[0:5,:])"
   ]
  },
  {
   "cell_type": "markdown",
   "metadata": {},
   "source": [
    "## 7.6 Binarize Data - Make Binary"
   ]
  },
  {
   "cell_type": "code",
   "execution_count": null,
   "metadata": {},
   "outputs": [],
   "source": [
    "# Nhị phân hóa (binarization)\n",
    "from sklearn.preprocessing import Binarizer\n",
    "from pandas import read_csv\n",
    "from numpy import set_printoptions\n",
    "\n",
    "filename = 'pima-indians-diabetes.data.csv'\n",
    "names = ['preg', 'plas', 'pres', 'skin', 'test', 'mass', 'pedi', 'age', 'class']\n",
    "dataframe = read_csv(filename, names=names)\n",
    "array = dataframe.values\n",
    "# Tách mảng thành các thành phần đầu vào và đầu ra\n",
    "X = array[:,0:8]\n",
    "Y = array[:,8]\n",
    "binarizer = Binarizer(threshold=0.0).fit(X)\n",
    "binaryX = binarizer.transform(X)\n",
    "# Tóm tắt dữ liệu đã biến đổi\n",
    "set_printoptions(precision=3)\n",
    "print(binaryX[0:5,:])"
   ]
  }
 ],
 "metadata": {
  "language_info": {
   "name": "python"
  }
 },
 "nbformat": 4,
 "nbformat_minor": 2
}
