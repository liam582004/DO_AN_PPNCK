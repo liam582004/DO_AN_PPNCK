{
 "cells": [
  {
   "cell_type": "markdown",
   "id": "2d6a5fe1-ff52-49cb-86a0-8cffa78982f1",
   "metadata": {},
   "source": [
    "# Evaluate the Performance of Machine Learning Algorithms with Resampling"
   ]
  },
  {
   "cell_type": "markdown",
   "id": "4029c9f2-5f7e-4681-9fe5-fb0f836952d0",
   "metadata": {},
   "source": [
    "## 9.2 Split into Train and Test Sets\n"
   ]
  },
  {
   "cell_type": "code",
   "execution_count": 7,
   "id": "b54812c4-1fda-47f7-86bb-a0fe335dab22",
   "metadata": {},
   "outputs": [
    {
     "name": "stdout",
     "output_type": "stream",
     "text": [
      "Accuracy: 78.740%\n"
     ]
    }
   ],
   "source": [
    "from pandas import read_csv\n",
    "from sklearn.model_selection import train_test_split\n",
    "from sklearn.linear_model import LogisticRegression\n",
    "\n",
    "# 1. Đọc dữ liệu từ file CSV\n",
    "filename = 'pima-indians-diabetes.data.csv'\n",
    "names = ['preg', 'plas', 'pres', 'skin', 'test', 'mass', 'pedi', 'age', 'class']\n",
    "dataframe = read_csv(filename, names=names)\n",
    "\n",
    "# 2. Chuyển dữ liệu thành mảng numpy\n",
    "array = dataframe.values\n",
    "X = array[:, 0:8]   # 8 features\n",
    "y = array[:, 8]     # label: 0 hoặc 1\n",
    "\n",
    "# 3. Chia dữ liệu train/test\n",
    "test_size = 0.33\n",
    "seed = 7\n",
    "X_train, X_test, y_train, y_test = train_test_split(X, y, test_size=test_size, random_state=seed)\n",
    "\n",
    "# 4. Khởi tạo và huấn luyện mô hình Logistic Regression\n",
    "model = LogisticRegression(max_iter=200)\n",
    "model.fit(X_train, y_train)\n",
    "\n",
    "# 5. Đánh giá mô hình trên tập test\n",
    "result = model.score(X_test, y_test)\n",
    "print(f\"Accuracy: {result * 100.0:.3f}%\")"
   ]
  },
  {
   "cell_type": "markdown",
   "id": "f14007fd-c12f-4f21-9e83-051614584100",
   "metadata": {},
   "source": [
    "## 9.3 K-fold Cross Validation"
   ]
  },
  {
   "cell_type": "code",
   "execution_count": 6,
   "id": "cdd73f8b-f3c1-4643-8597-4a95fd843292",
   "metadata": {},
   "outputs": [
    {
     "name": "stdout",
     "output_type": "stream",
     "text": [
      "Accuracy: 77.216% (4.968%)\n"
     ]
    }
   ],
   "source": [
    "from pandas import read_csv\n",
    "from sklearn.model_selection import KFold\n",
    "from sklearn.model_selection import cross_val_score\n",
    "from sklearn.linear_model import LogisticRegression\n",
    "\n",
    "filename = 'pima-indians-diabetes.data.csv'\n",
    "names = ['preg', 'plas', 'pres', 'skin', 'test', 'mass', 'pedi', 'age', 'class']\n",
    "\n",
    "dataframe = read_csv(filename, names=names)\n",
    "\n",
    "arr = dataframe.values\n",
    "X = arr[:, 0:8]\n",
    "y = arr[:, 8]\n",
    "\n",
    "num_folds = 10\n",
    "seed = 7\n",
    "kfold = KFold(n_splits=num_folds, random_state=seed, shuffle=True)\n",
    "\n",
    "model = LogisticRegression(max_iter=1000)  \n",
    "\n",
    "results = cross_val_score(model, X, y, cv=kfold)\n",
    "\n",
    "print(f\"Accuracy: {results.mean()*100.0:.3f}% ({results.std()*100.0:.3f}%)\")\n"
   ]
  },
  {
   "cell_type": "markdown",
   "id": "f7cc4714-175b-4e44-825e-950cedd32f6b",
   "metadata": {},
   "source": [
    "## 9.4 Leave One Out Cross Validation"
   ]
  },
  {
   "cell_type": "code",
   "execution_count": 3,
   "id": "81364c3f-ed7f-4667-a88b-b44e715f97e3",
   "metadata": {},
   "outputs": [
    {
     "name": "stdout",
     "output_type": "stream",
     "text": [
      "Accuracy: 77.604% (41.689%)\n"
     ]
    }
   ],
   "source": [
    "from pandas import read_csv\n",
    "from sklearn.model_selection import LeaveOneOut\n",
    "from sklearn.model_selection import cross_val_score\n",
    "from sklearn.linear_model import LogisticRegression\n",
    "\n",
    "\n",
    "filename = 'pima-indians-diabetes.data.csv'\n",
    "names = ['preg', 'plas', 'pres', 'skin', 'test', 'mass', 'pedi', 'age', 'class']\n",
    "dataframe = read_csv(filename, names=names)\n",
    "\n",
    "#chuẩn bị data\n",
    "arr = dataframe.values\n",
    "X = arr[:, 0:8]\n",
    "y = arr[:, 8]\n",
    "\n",
    "num_folds = 10\n",
    "seed = 7\n",
    "loocv = LeaveOneOut()\n",
    "\n",
    "model = LogisticRegression(max_iter=1000) \n",
    "\n",
    "results = cross_val_score(model, X, y, cv=loocv)\n",
    "\n",
    "print(f\"Accuracy: {results.mean()*100.0:.3f}% ({results.std()*100.0:.3f}%)\")\n"
   ]
  },
  {
   "cell_type": "markdown",
   "id": "53b3e51c-7828-477b-bab5-51fd74c8ef34",
   "metadata": {},
   "source": [
    "## 9.5 Repeated Random Test-Train Splits"
   ]
  },
  {
   "cell_type": "code",
   "execution_count": 7,
   "id": "00fc0007-36eb-481a-9aaa-ce8aea3ea818",
   "metadata": {},
   "outputs": [
    {
     "name": "stdout",
     "output_type": "stream",
     "text": [
      "Accuracy: 76.535% (2.235%)\n"
     ]
    }
   ],
   "source": [
    "from pandas import read_csv\n",
    "from sklearn.model_selection import ShuffleSplit\n",
    "from sklearn.model_selection import cross_val_score\n",
    "from sklearn.linear_model import LogisticRegression\n",
    "\n",
    "\n",
    "filename = 'pima-indians-diabetes.data.csv'\n",
    "names = ['preg', 'plas', 'pres', 'skin', 'test', 'mass', 'pedi', 'age', 'class']\n",
    "dataframe = read_csv(filename, names=names)\n",
    "\n",
    "#chuẩn bị data\n",
    "arr = dataframe.values\n",
    "X = arr[:, 0:8]\n",
    "y = arr[:, 8]\n",
    "\n",
    "n_splits = 10\n",
    "test_size = 0.33\n",
    "seed = 7\n",
    "kfold = ShuffleSplit(n_splits=n_splits, test_size=test_size, random_state=seed)\n",
    "\n",
    "model = LogisticRegression(max_iter=1000) \n",
    "\n",
    "results = cross_val_score(model, X, y, cv=kfold)\n",
    "print(f\"Accuracy: {results.mean()*100.0:.3f}% ({results.std()*100.0:.3f}%)\")"
   ]
  }
 ],
 "metadata": {
  "kernelspec": {
   "display_name": "Python 3 (ipykernel)",
   "language": "python",
   "name": "python3"
  },
  "language_info": {
   "codemirror_mode": {
    "name": "ipython",
    "version": 3
   },
   "file_extension": ".py",
   "mimetype": "text/x-python",
   "name": "python",
   "nbconvert_exporter": "python",
   "pygments_lexer": "ipython3",
   "version": "3.12.7"
  }
 },
 "nbformat": 4,
 "nbformat_minor": 5
}
