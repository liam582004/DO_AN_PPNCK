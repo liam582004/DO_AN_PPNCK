








data = 'hello world'
print(data[0])
print(len(data))
print(data)





value = 123.1
print(value)
value = 10
print(value)





a = True
b = False
print(a, b)





a, b, c, = 1, 2, 3
print(a, b, c)


value = 99
if value == 99:
    print('That is fast')
elif value > 200:
    print('That is too fast')
else:
    print('That is safe')





for i in range(10):
    print (i)





i = 0 
while i < 10:
    print (i)
    i += 1








a = (1, 2, 3)
print(a)





mylist = [1, 2, 3]
print("Zeroth value: %d" % mylist[0])
mylist.append(4)
print("List length: %d" % len(mylist))
for value in mylist:
    print (value)





mydict = {'a': 1, 'b': 2, 'c': 3}
print('A value: %d' % mydict['a'])
mydict['a'] = 11
print('A value: %d' % mydict['a'])
print('Keys: %s' % mydict.keys())
print('Values: %s' % mydict.values())
for key in mydict.keys():
    print (mydict[key])
    





def mysum(x, y):
    return x+y

result = mysum(1, 3)
print(result)








import numpy
mylist = [1,2, 3]
myarr= numpy.array(mylist)
print(myarr)
print(myarr.shape)





import numpy
mylist = [[1, 2,3 ], [3, 4, 5]]
myarr = numpy.array(mylist)
print(myarr)
print(myarr.shape)
print('first row: %s' % myarr[0])
print('last row: %s' % myarr[-1])
print('special row and col: %s' % myarr[0,2])
print('whole col: %s' % myarr[:,2])





import numpy
myarr1 = numpy.array([2,2,2])
myarr2 = numpy.array([3, 3, 3])
print("addition: %s" % (myarr1 + myarr2))
print('Multiplication: %s' % (myarr1*myarr2))








import matplotlib.pyplot as plt
import numpy
myarr = numpy.array([1,2,3])
plt.plot(myarr)
plt.xlabel('some x axis')
plt.ylabel('some y axis')
plt.show()





import matplotlib.pyplot as plt
import numpy
x = numpy.array([1,2,3])
y = numpy.array([4, 5, 6])
plt.scatter(x, y)
plt.xlabel('some x axis')
plt.ylabel('some y axis')
plt.show()








import numpy
import pandas
myarr = numpy.array([1, 2, 3])
rownames = ['a', 'b', 'c']
myseries = pandas.Series(myarr, index=rownames)
print(myseries)
print(myseries.iloc[0])
print(myseries['a'])





import numpy
import pandas
myarr = numpy.array([[1, 2, 3], [4, 5, 6]])
rowsnames = ['a', 'b']
colnames = ['one', 'two', 'three']
mydataframe = pandas.DataFrame(myarr, index=rowsnames, columns=colnames)
print(mydataframe)
print("Method 1:")
print("one col:\n", mydataframe['one'])

print("Method 2:")
print("one col:\n", mydataframe.one)









import csv
import numpy

filename = 'pima-indians-diabetes.data.csv'
raw_data = open(filename, 'r')
reader = csv.reader(raw_data, delimiter=',', quoting=csv.QUOTE_NONE)
next(reader)
x = list(reader)
data = numpy.array(x).astype('float')
print(data.shape)






from numpy import loadtxt
filename = 'pima-indians-diabetes.data.csv'
raw_data = open(filename, 'r')
data = loadtxt(raw_data, delimiter=",", skiprows=1)
print(data.shape)





from pandas import read_csv
filename = 'pima-indians-diabetes.data.csv'
names = ['preg', 'plas', 'pres', 'skin', 'test', 'mass', 'pedi', 'age', 'class']
data = read_csv(filename, names=names)
print(data.shape)








from pandas import read_csv
filename = 'pima-indians-diabetes.data.csv'
names = ['preg', 'plas', 'pres', 'skin', 'test', 'mass' ,'pedi', 'age', 'class']
data = read_csv(filename, names=names)
peek = data.head(20)
print(peek)





from pandas import read_csv
filename = 'pima-indians-diabetes.data.csv'
names = ['preg', 'plas', 'pres', 'skin', 'test', 'mass' ,'pedi', 'age', 'class']
data = read_csv(filename, names=names)
shape = data.shape
print(shape)





from pandas import read_csv
filename = 'pima-indians-diabetes.data.csv'
names = ['preg', 'plas', 'pres', 'skin', 'test', 'mass' ,'pedi', 'age', 'class']
data = read_csv(filename, names=names)
types = data.dtypes
print(types)





from pandas import read_csv
from pandas import set_option
filename = 'pima-indians-diabetes.data.csv'
names = ['preg', 'plas', 'pres', 'skin', 'test', 'mass' ,'pedi', 'age', 'class']
data = read_csv(filename, names=names)
set_option('display.width', 100)
set_option('display.float_format', '{:.3f}'.format)
description = data.describe()
print(description)





from pandas import read_csv
filename = 'pima-indians-diabetes.data.csv'
names = ['preg', 'plas', 'pres', 'skin', 'test', 'mass' ,'pedi', 'age', 'class']
data = read_csv(filename, names=names)
class_counts = data.groupby('class').size()
print(class_counts)






from pandas import read_csv
from pandas import set_option
import pandas as pd
filename = 'pima-indians-diabetes.data.csv'
names = ['preg', 'plas', 'pres', 'skin', 'test', 'mass' ,'pedi', 'age', 'class']
data = read_csv(filename, names=names)
data = data.apply(pd.to_numeric, errors='coerce')
set_option('display.width', 100)
set_option('display.float_format', '{:.3f}'.format)
correlations = data.corr(method='pearson')
print(correlations)





from pandas import read_csv
import pandas as pd
filename = 'pima-indians-diabetes.data.csv'
names = ['preg', 'plas', 'pres', 'skin', 'test', 'mass' ,'pedi', 'age', 'class']
data = read_csv(filename, names=names)
data = data.apply(pd.to_numeric, errors='coerce')
data = data.dropna()
skew = data.skew()
print(skew)











from matplotlib import pyplot
from pandas import read_csv
import pandas as pd
filename = 'pima-indians-diabetes.data.csv'
names = ['preg', 'plas', 'pres', 'skin', 'test', 'mass' ,'pedi', 'age', 'class']
data = read_csv(filename, names=names)
data = data.apply(pd.to_numeric, errors='coerce')
data = data.dropna()
data.hist(figsize=(10, 8))
pyplot.show()





from matplotlib import pyplot
from pandas import read_csv
import pandas as pd
filename = 'pima-indians-diabetes.data.csv'
names = ['preg', 'plas', 'pres', 'skin', 'test', 'mass' ,'pedi', 'age', 'class']
data = read_csv(filename, names=names)
data = data.apply(pd.to_numeric, errors='coerce')
data = data.dropna()
data.plot(kind='density', subplots=True, layout=(3,3), sharex=False)
pyplot.show()





from matplotlib import pyplot
from pandas import read_csv
import pandas as pd
filename = 'pima-indians-diabetes.data.csv'
names = ['preg', 'plas', 'pres', 'skin', 'test', 'mass' ,'pedi', 'age', 'class']
data = read_csv(filename, names=names)
data = data.apply(pd.to_numeric, errors='coerce')
data = data.dropna()
data.plot(kind='box', subplots=True, layout=(3,3), sharex=False)
pyplot.show()





from matplotlib import pyplot
from pandas import read_csv
import pandas as pd
import numpy
filename = 'pima-indians-diabetes.data.csv'
names = ['preg', 'plas', 'pres', 'skin', 'test', 'mass' ,'pedi', 'age', 'class']
data = read_csv(filename, names=names)
data = data.apply(pd.to_numeric, errors='coerce')
data = data.dropna()
correlations = data.corr()

fig = pyplot.figure()
ax = fig.add_subplot(111)
cax = ax.matshow(correlations, vmin=-1, vmax = 1)
fig.colorbar(cax)
ticks = numpy.arange(0,9,1)
ax.set_xticks(ticks)
ax.set_yticks(ticks)
ax.set_xticklabels(names)
ax.set_yticklabels(names)
pyplot.show()


from matplotlib import pyplot
from pandas import read_csv
import pandas as pd
import numpy
filename = 'pima-indians-diabetes.data.csv'
names = ['preg', 'plas', 'pres', 'skin', 'test', 'mass' ,'pedi', 'age', 'class']
data = read_csv(filename, names=names)
data = data.apply(pd.to_numeric, errors='coerce')
data = data.dropna()
correlations = data.corr()

fig = pyplot.figure()
ax = fig.add_subplot(111)
cax = ax.matshow(correlations, vmin=-1, vmax = 1)
fig.colorbar(cax)
pyplot.show()





from matplotlib import pyplot
from pandas import read_csv
import pandas as pd
from pandas.plotting import scatter_matrix
filename = 'pima-indians-diabetes.data.csv'
names = ['preg', 'plas', 'pres', 'skin', 'test', 'mass' ,'pedi', 'age', 'class']
data = read_csv(filename, names=names)
data = data.apply(pd.to_numeric, errors='coerce')
data = data.dropna()
scatter_matrix(data)
pyplot.show()








from pandas import read_csv
from numpy import set_printoptions
from sklearn.preprocessing import MinMaxScaler
filename = 'pima-indians-diabetes.data.csv'
names = ['preg', 'plas', 'pres', 'skin', 'test', 'mass', 'pedi', 'age', 'class']
dataframe = read_csv(filename, names=names)
dataframe = data.apply(pd.to_numeric, errors='coerce')
dataframe = data.dropna()
array = dataframe.values

x = array[:,0:8]
y = array[:,8]
scaler = MinMaxScaler(feature_range=(0,1))
rescaledX = scaler.fit_transform(x)

set_printoptions(precision=3)
print(rescaledX[0:5,:])





from pandas import read_csv
from numpy import set_printoptions
from sklearn.preprocessing import StandardScaler
filename = 'pima-indians-diabetes.data.csv'
names = ['preg', 'plas', 'pres', 'skin', 'test', 'mass', 'pedi', 'age', 'class']
dataframe = read_csv(filename, names=names)
dataframe = data.apply(pd.to_numeric, errors='coerce')
dataframe = data.dropna()
array = dataframe.values

x = array[:,0:8]
y = array[:,8]
scaler = StandardScaler().fit(x)
rescaledX= scaler.transform(x)

set_printoptions(precision = 3)
print(rescaledX[0:5,:])





from pandas import read_csv
from numpy import set_printoptions
from sklearn.preprocessing import Normalizer
filename = 'pima-indians-diabetes.data.csv'
names = ['preg', 'plas', 'pres', 'skin', 'test', 'mass', 'pedi', 'age', 'class']
dataframe = read_csv(filename, names=names)
dataframe = data.apply(pd.to_numeric, errors='coerce')
dataframe = data.dropna()
array = dataframe.values

x = array[:,0:8]
y = array[:,8]
scaler = Normalizer().fit(x)
normalizedX = scaler.transform(x)

set_printoptions(precision=3)
print(normalizedX[0:5,:])





from pandas import read_csv
from numpy import set_printoptions
from sklearn.preprocessing import Binarizer
filename = 'pima-indians-diabetes.data.csv'
names = ['preg', 'plas', 'pres', 'skin', 'test', 'mass', 'pedi', 'age', 'class']
dataframe = read_csv(filename, names=names)
dataframe = data.apply(pd.to_numeric, errors='coerce')
dataframe = data.dropna()
array = dataframe.values

x = array[:,0:8]
y = array[:,8]
binarizer = Binarizer(threshold=0.0).fit(x)
binaryX = binarizer.transform(x)

set_printoptions(precision=3)
print(binaryX[0:5,:])








from pandas import read_csv
from numpy import set_printoptions
from sklearn.feature_selection import SelectKBest
from sklearn.feature_selection import chi2

filename = 'pima-indians-diabetes.data.csv'
names = ['preg', 'plas', 'pres', 'skin', 'test', 'mass', 'pedi', 'age', 'class']
dataframe = read_csv(filename, names=names)
dataframe = data.apply(pd.to_numeric, errors='coerce')
dataframe = data.dropna()
array = dataframe.values
x = array[:,0:8]
y = array[:,8]

test = SelectKBest(score_func=chi2, k=4)
fit = test.fit(x,y)

set_printoptions(precision=3)
print(fit.scores_)
features = fit.transform(x)

print(features[0:5,:])





from pandas import read_csv
from sklearn.feature_selection import RFE
from sklearn.linear_model import LogisticRegression
from sklearn.preprocessing import StandardScaler

# Đọc dữ liệu
filename = 'pima-indians-diabetes.data.csv'
names = ['preg', 'plas', 'pres', 'skin', 'test', 'mass', 'pedi', 'age', 'class']
dataframe = read_csv(filename, names=names)

# Chuyển tất cả các cột thành số và loại bỏ các giá trị không hợp lệ
dataframe = dataframe.apply(pd.to_numeric, errors='coerce')
dataframe = dataframe.dropna()

# Tạo mảng dữ liệu
array = dataframe.values
x = array[:, 0:8]  # Các tính năng
y = array[:, 8]    # Cột 'class'

# Chuẩn hóa dữ liệu
scaler = StandardScaler()
x = scaler.fit_transform(x)

# Khởi tạo Logistic Regression với tăng số vòng lặp và thuật toán 'lbfgs'
model = LogisticRegression(max_iter=200)  # Tăng số vòng lặp lên 200

# Áp dụng RFE để chọn 3 tính năng
rfe = RFE(model, n_features_to_select=3)
fit = rfe.fit(x, y)

# In kết quả
print('Num Features: %d' % fit.n_features_)
print('Selected Features: %s' % fit.support_)
print('Feature Ranking: %s' % fit.ranking_)






from pandas import read_csv
from sklearn.decomposition import PCA

filename = 'pima-indians-diabetes.data.csv'
names = ['preg', 'plas', 'pres', 'skin', 'test', 'mass', 'pedi', 'age', 'class']
dataframe = read_csv(filename, names=names)
dataframe = data.apply(pd.to_numeric, errors='coerce')
dataframe = data.dropna()
array = dataframe.values

x = array[:,0:8]
y = array[:,8]

pca = PCA(n_components=3)
fit = pca.fit(x)

print('Explained Variance: %s' % fit.explained_variance_ratio_)
print(fit.components_)





from pandas import read_csv
from sklearn.ensemble import ExtraTreesClassifier 

filename = 'pima-indians-diabetes.data.csv'
names = ['preg', 'plas', 'pres', 'skin', 'test', 'mass', 'pedi', 'age', 'class']
dataframe = read_csv(filename, names=names)
dataframe = data.apply(pd.to_numeric, errors='coerce')
dataframe = data.dropna()
array = dataframe.values

x = array[:,0:8]
y = array[:,8]

model = ExtraTreesClassifier()
model.fit(x,y)
print(model.feature_importances_)
