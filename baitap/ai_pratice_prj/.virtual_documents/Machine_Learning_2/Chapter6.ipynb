{
 "cells": [
  {
   "cell_type": "code",
   "execution_count": null,
   "metadata": {},
   "outputs": [],
   "source": [
    "# chương 6: hiểu dữ liệu bằng trực quan hóa\n",
    "\n",
    "# cell 1: imports\n",
    "import matplotlib.pyplot as plt\n",
    "import pandas as pd\n",
    "import numpy as np\n",
    "from pandas.plotting import scatter_matrix"
   ]
  },
  {
   "cell_type": "code",
   "execution_count": null,
   "metadata": {},
   "outputs": [],
   "source": [
    "# cell 2: load data (ví dụ - nếu chạy file này độc lập)\n",
    "filename = 'pima-indians-diabetes.data.csv' # đảm bảo file này tồn tại\n",
    "names = ['preg', 'plas', 'pres', 'skin', 'test', 'mass', 'pedi', 'age', 'class']\n",
    "dataframe = pd.read_csv(filename, names=names)\n",
    "\n",
    "print(\"--- chương 6: trực quan hóa dữ liệu ---\")"
   ]
  },
  {
   "cell_type": "code",
   "execution_count": null,
   "metadata": {},
   "outputs": [],
   "source": [
    "# cell 3: histograms\n",
    "print(\"plotting histograms...\")\n",
    "dataframe.hist()\n",
    "plt.suptitle(\"histograms\")\n",
    "plt.show() "
   ]
  },
  {
   "cell_type": "code",
   "execution_count": null,
   "metadata": {},
   "outputs": [],
   "source": [
    "# cell 4: density plots\n",
    "print(\"\\nplotting density plots...\")\n",
    "dataframe.plot(kind='density', subplots=True, layout=(3,3), sharex=False)\n",
    "plt.suptitle(\"density plots\")\n",
    "plt.show()"
   ]
  },
  {
   "cell_type": "code",
   "execution_count": null,
   "metadata": {},
   "outputs": [],
   "source": [
    "# cell 5: box plots\n",
    "print(\"\\nplotting box plots...\")\n",
    "dataframe.plot(kind='box', subplots=True, layout=(3,3), sharex=False, sharey=False)\n",
    "plt.suptitle(\"box plots\")\n",
    "plt.show()"
   ]
  },
  {
   "cell_type": "code",
   "execution_count": null,
   "metadata": {},
   "outputs": [],
   "source": [
    "# cell 6: ma trận tương quan (hình ảnh)\n",
    "print(\"\\nplotting correlation matrix plot...\")\n",
    "correlations = dataframe.corr()\n",
    "fig = plt.figure()\n",
    "ax = fig.add_subplot(111)\n",
    "cax = ax.matshow(correlations, vmin=-1, vmax=1)\n",
    "fig.colorbar(cax)\n",
    "# thêm ticks và labels nếu bạn muốn và có biến 'names'\n",
    "ticks = np.arange(0,len(dataframe.columns),1)\n",
    "ax.set_xticks(ticks)\n",
    "ax.set_yticks(ticks)\n",
    "ax.set_xticklabels(names, rotation=90) # xoay label nếu cần\n",
    "ax.set_yticklabels(names)\n",
    "plt.suptitle(\"correlation matrix\")\n",
    "plt.show()"
   ]
  },
  {
   "cell_type": "code",
   "execution_count": null,
   "metadata": {},
   "outputs": [],
   "source": [
    "# cell 7: ma trận scatter plot\n",
    "print(\"\\nplotting scatter plot matrix...\")\n",
    "scatter_matrix(dataframe)\n",
    "plt.suptitle(\"scatter plot matrix\")\n",
    "plt.show()\n",
    "\n",
    "print(\"\\n--- hết chương 6 ---\")"
   ]
  }
 ],
 "metadata": {
  "kernelspec": {
   "display_name": "Python 3",
   "language": "python",
   "name": "python3"
  },
  "language_info": {
   "name": "python",
   "version": "3.13.2"
  }
 },
 "nbformat": 4,
 "nbformat_minor": 2
}
