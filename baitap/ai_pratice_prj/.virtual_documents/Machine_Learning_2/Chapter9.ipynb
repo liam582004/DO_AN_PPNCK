





from pandas import read_csv
from sklearn.model_selection import train_test_split
from sklearn.linear_model import LogisticRegression

# 1. Đọc dữ liệu từ file CSV
filename = 'pima-indians-diabetes.data.csv'
names = ['preg', 'plas', 'pres', 'skin', 'test', 'mass', 'pedi', 'age', 'class']
dataframe = read_csv(filename, names=names)

# 2. Chuyển dữ liệu thành mảng numpy
array = dataframe.values
X = array[:, 0:8]   # 8 features
y = array[:, 8]     # label: 0 hoặc 1

# 3. Chia dữ liệu train/test
test_size = 0.33
seed = 7
X_train, X_test, y_train, y_test = train_test_split(X, y, test_size=test_size, random_state=seed)

# 4. Khởi tạo và huấn luyện mô hình Logistic Regression
model = LogisticRegression(max_iter=200)
model.fit(X_train, y_train)

# 5. Đánh giá mô hình trên tập test
result = model.score(X_test, y_test)
print(f"Accuracy: {result * 100.0:.3f}%")





from pandas import read_csv
from sklearn.model_selection import KFold
from sklearn.model_selection import cross_val_score
from sklearn.linear_model import LogisticRegression

filename = 'pima-indians-diabetes.data.csv'
names = ['preg', 'plas', 'pres', 'skin', 'test', 'mass', 'pedi', 'age', 'class']

dataframe = read_csv(filename, names=names)

arr = dataframe.values
X = arr[:, 0:8]
y = arr[:, 8]

num_folds = 10
seed = 7
kfold = KFold(n_splits=num_folds, random_state=seed, shuffle=True)

model = LogisticRegression(max_iter=1000)  

results = cross_val_score(model, X, y, cv=kfold)

print(f"Accuracy: {results.mean()*100.0:.3f}% ({results.std()*100.0:.3f}%)")






from pandas import read_csv
from sklearn.model_selection import LeaveOneOut
from sklearn.model_selection import cross_val_score
from sklearn.linear_model import LogisticRegression


filename = 'pima-indians-diabetes.data.csv'
names = ['preg', 'plas', 'pres', 'skin', 'test', 'mass', 'pedi', 'age', 'class']
dataframe = read_csv(filename, names=names)

#chuẩn bị data
arr = dataframe.values
X = arr[:, 0:8]
y = arr[:, 8]

num_folds = 10
seed = 7
loocv = LeaveOneOut()

model = LogisticRegression(max_iter=1000) 

results = cross_val_score(model, X, y, cv=loocv)

print(f"Accuracy: {results.mean()*100.0:.3f}% ({results.std()*100.0:.3f}%)")






from pandas import read_csv
from sklearn.model_selection import ShuffleSplit
from sklearn.model_selection import cross_val_score
from sklearn.linear_model import LogisticRegression


filename = 'pima-indians-diabetes.data.csv'
names = ['preg', 'plas', 'pres', 'skin', 'test', 'mass', 'pedi', 'age', 'class']
dataframe = read_csv(filename, names=names)

#chuẩn bị data
arr = dataframe.values
X = arr[:, 0:8]
y = arr[:, 8]

n_splits = 10
test_size = 0.33
seed = 7
kfold = ShuffleSplit(n_splits=n_splits, test_size=test_size, random_state=seed)

model = LogisticRegression(max_iter=1000) 

results = cross_val_score(model, X, y, cv=kfold)
print(f"Accuracy: {results.mean()*100.0:.3f}% ({results.std()*100.0:.3f}%)")
