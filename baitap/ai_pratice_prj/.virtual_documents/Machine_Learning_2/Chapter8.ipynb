{
 "cells": [
  {
   "cell_type": "code",
   "execution_count": null,
   "metadata": {},
   "outputs": [],
   "source": [
    "# chương 8: lựa chọn đặc trưng cho machine learning\n",
    "\n",
    "# cell 1: imports\n",
    "import pandas as pd\n",
    "import numpy as np\n",
    "from sklearn.feature_selection import SelectKBest, chi2, RFE\n",
    "from sklearn.linear_model import LogisticRegression\n",
    "from sklearn.decomposition import PCA\n",
    "from sklearn.ensemble import ExtraTreesClassifier"
   ]
  },
  {
   "cell_type": "code",
   "execution_count": null,
   "metadata": {},
   "outputs": [],
   "source": [
    "# cell 2: load data và tách features 'x', target 'y' (ví dụ)\n",
    "filename = 'pima-indians-diabetes.data.csv' # đảm bảo file này tồn tại\n",
    "names = ['preg', 'plas', 'pres', 'skin', 'test', 'mass', 'pedi', 'age', 'class']\n",
    "dataframe = pd.read_csv(filename, names=names)\n",
    "array = dataframe.values\n",
    "x = array[:,0:8] \n",
    "y = array[:,8] \n",
    "\n",
    "print(\"--- chương 8: lựa chọn đặc trưng (thực hiện trên 'x' và 'y') ---\")"
   ]
  },
  {
   "cell_type": "code",
   "execution_count": null,
   "metadata": {},
   "outputs": [],
   "source": [
    "# cell 3: univariate selection (chi2)\n",
    "print(\"univariate selection (chi2, k=4):\")\n",
    "# chọn 4 features tốt nhất\n",
    "selector_kbest = SelectKBest(score_func=chi2, k=4)\n",
    "fit_kbest = selector_kbest.fit(x, y)\n",
    "# np.set_printoptions(precision=3) # đặt độ chính xác hiển thị nếu muốn\n",
    "print(\"điểm số chi2:\\n\", fit_kbest.scores_)\n",
    "# lấy ra các features được chọn\n",
    "features_selected_indices = selector_kbest.get_support(indices=True)\n",
    "print(\"chỉ số các features được chọn:\", features_selected_indices)\n",
    "# features_kbest = x[:,features_selected_indices] # dữ liệu chỉ gồm features đã chọn\n"
   ]
  },
  {
   "cell_type": "code",
   "execution_count": null,
   "metadata": {},
   "outputs": [],
   "source": [
    "# cell 4: recursive feature elimination (rfe)\n",
    "print(\"\\nrecursive feature elimination (rfe, k=3):\")\n",
    "# chọn 3 features dùng logistic regression\n",
    "model_for_rfe = LogisticRegression(solver='liblinear', max_iter=1000) \n",
    "selector_rfe = RFE(model_for_rfe, n_features_to_select=3)\n",
    "fit_rfe = selector_rfe.fit(x, y)\n",
    "print(\"mask features được chọn:\", fit_rfe.support_)\n",
    "print(\"thứ hạng features:\", fit_rfe.ranking_)"
   ]
  },
  {
   "cell_type": "code",
   "execution_count": null,
   "metadata": {},
   "outputs": [],
   "source": [
    "# cell 5: principal component analysis (pca)\n",
    "print(\"\\nprincipal component analysis (pca, n=3):\")\n",
    "# giảm chiều xuống 3 components\n",
    "pca_transformer = PCA(n_components=3)\n",
    "fit_pca = pca_transformer.fit(x)\n",
    "print(\"tỷ lệ phương sai giải thích được:\", fit_pca.explained_variance_ratio_)\n",
    "print(\"tổng phương sai giải thích được:\", sum(fit_pca.explained_variance_ratio_))\n",
    "# features_pca = pca_transformer.transform(x) # dữ liệu sau giảm chiều"
   ]
  },
  {
   "cell_type": "code",
   "execution_count": null,
   "metadata": {},
   "outputs": [],
   "source": [
    "# cell 6: feature importance (extra trees)\n",
    "print(\"\\nfeature importance (extra trees):\")\n",
    "# dùng extra trees để đánh giá\n",
    "importance_model = ExtraTreesClassifier(n_estimators=100, random_state=42)\n",
    "importance_model.fit(x, y)\n",
    "print(\"mức độ quan trọng của từng feature:\\n\", importance_model.feature_importances_)\n",
    "# tạo dataframe để xem tên cột và độ quan trọng nếu muốn\n",
    "# importance_df = pd.DataFrame({'feature': names[:8], 'importance': importance_model.feature_importances_})\n",
    "# print(importance_df.sort_values(by='importance', ascending=False))\n",
    "\n",
    "print(\"\\n--- hết chương 8 ---\")"
   ]
  }
 ],
 "metadata": {
  "kernelspec": {
   "display_name": "Python 3",
   "language": "python",
   "name": "python3"
  },
  "language_info": {
   "name": "python",
   "version": "3.13.2"
  }
 },
 "nbformat": 4,
 "nbformat_minor": 2
}
