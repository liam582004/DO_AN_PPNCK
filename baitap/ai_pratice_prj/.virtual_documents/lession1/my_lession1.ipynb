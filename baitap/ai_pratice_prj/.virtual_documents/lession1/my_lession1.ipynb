








# lenh 1 - xuat chu
print('Hello, Python World!')


### Chạy tạp tin python


!python ex0_hello_world.py



%run ex0_hello_world.py






%run ex1_calc.py


print("Calculator Basiuc")
a = int(input("Moi nhap so a:"))
b = int(input("moi nhap so b:"))
c = a + b
print("c = %d + %d = %d" % (a, b, c))




