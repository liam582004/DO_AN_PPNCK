{
 "cells": [
  {
   "cell_type": "markdown",
   "id": "64a36fa0-7263-4f4c-a13e-aa4a4996437a",
   "metadata": {},
   "source": [
    "# Thuc hanh tri tue nhan tao Buoi 1"
   ]
  },
  {
   "cell_type": "markdown",
   "id": "434d2527-2917-4bbe-9918-f78a6fee3ff9",
   "metadata": {},
   "source": [
    "## Noi dung thuc hanh"
   ]
  },
  {
   "cell_type": "markdown",
   "id": "d6265199-609b-4b44-901a-532d2941faed",
   "metadata": {},
   "source": [
    "### In chu ra man hinh"
   ]
  },
  {
   "cell_type": "code",
   "execution_count": 1,
   "id": "5ce7c9f7-4857-4f47-b977-a1293ae5e2d2",
   "metadata": {},
   "outputs": [
    {
     "name": "stdout",
     "output_type": "stream",
     "text": [
      "Hello, Python World!\n"
     ]
    }
   ],
   "source": [
    "# lenh 1 - xuat chu\n",
    "print('Hello, Python World!')"
   ]
  },
  {
   "cell_type": "code",
   "execution_count": 2,
   "id": "b81a5939-b54e-4a27-96f4-804a30014fdb",
   "metadata": {},
   "outputs": [],
   "source": [
    "### Chạy tạp tin python"
   ]
  },
  {
   "cell_type": "code",
   "execution_count": 3,
   "id": "bed9c0e3-7f96-4bf5-9451-a6be57158520",
   "metadata": {},
   "outputs": [
    {
     "name": "stdout",
     "output_type": "stream",
     "text": [
      "Hello, Python World!\n"
     ]
    }
   ],
   "source": [
    "!python ex0_hello_world.py\n"
   ]
  },
  {
   "cell_type": "code",
   "execution_count": 4,
   "id": "6beb5778-dc4b-4817-88d9-b89d0160c723",
   "metadata": {},
   "outputs": [
    {
     "name": "stdout",
     "output_type": "stream",
     "text": [
      "Hello, Python World!\n"
     ]
    }
   ],
   "source": [
    "%run ex0_hello_world.py\n"
   ]
  },
  {
   "cell_type": "markdown",
   "id": "b314b6f4-0e75-4f47-b080-d6e80b0c221c",
   "metadata": {},
   "source": [
    "### Tinh toan don gian"
   ]
  },
  {
   "cell_type": "code",
   "execution_count": null,
   "id": "64d51ac0-c90f-443c-ab01-10c9503a2d71",
   "metadata": {},
   "outputs": [],
   "source": []
  },
  {
   "cell_type": "markdown",
   "id": "f037b61b-0adf-4919-b08c-5b7f5dd4736f",
   "metadata": {},
   "source": [
    "# Ket Thuc"
   ]
  }
 ],
 "metadata": {
  "kernelspec": {
   "display_name": "Python 3 (ipykernel)",
   "language": "python",
   "name": "python3"
  },
  "language_info": {
   "codemirror_mode": {
    "name": "ipython",
    "version": 3
   },
   "file_extension": ".py",
   "mimetype": "text/x-python",
   "name": "python",
   "nbconvert_exporter": "python",
   "pygments_lexer": "ipython3",
   "version": "3.12.7"
  }
 },
 "nbformat": 4,
 "nbformat_minor": 5
}
